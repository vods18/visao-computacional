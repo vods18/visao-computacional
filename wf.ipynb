{
 "cells": [
  {
   "cell_type": "code",
   "execution_count": null,
   "metadata": {},
   "outputs": [],
   "source": [
    "import cv2\n",
    "from matplotlib import pyplot as plt\n",
    "import numpy as np\n",
    "\n",
    "# Carrega a imagem em escala de cinza\n",
    "img = cv2.imread('osso4.png', cv2.IMREAD_GRAYSCALE)\n",
    "\n",
    "# Equaliza o histograma da imagem\n",
    "# equalized_img = cv2.equalizeHist(img)\n",
    "# cv2.imwrite('equalized_img.png', equalized_img)\n",
    "\n",
    "# Aplica blur e sharpened na imagem\n",
    "blur = cv2.GaussianBlur(img, (3, 3), 0)\n",
    "\n",
    "edges = cv2.subtract(img, blur)\n",
    "sharpened = cv2.addWeighted(img, 1.5, edges, 0.5, 0)\n",
    "\n",
    "# Apply adaptive thresholding\n",
    "# thresh_img_sharpened = cv2.adaptiveThreshold(sharpened, 255, cv2.ADAPTIVE_THRESH_MEAN_C, cv2.THRESH_BINARY, 11, 2)\n",
    "\n",
    "# Apply thresholding\n",
    "ret, thresh_img_sharpened = cv2.threshold(sharpened, 200, 255, cv2.THRESH_BINARY)\n",
    "\n",
    "# Aplica threshold para binarizacao da imagem \n",
    "ret, thresh_img = cv2.threshold(img, 150, 255, cv2.THRESH_BINARY)\n",
    "\n",
    "# Aplica detector de bordas canny na imagem equalizada\n",
    "cannySp = cv2.Canny(sharpened, 100, 200)\n",
    "canny = cv2.Canny(img, 100, 200)\n",
    "\n",
    "# Mostra as imagens original e com threshold\n",
    "plt.subplot(121), plt.imshow(img, cmap='gray')\n",
    "plt.title('Original image'), plt.xticks([]), plt.yticks([])\n",
    "plt.subplot(122), plt.imshow(thresh_img_sharpened, cmap='gray')\n",
    "plt.title('Threshold and sharpened'), plt.xticks([]), plt.yticks([])\n",
    "plt.show()\n",
    "\n",
    "# Mostra as imagens Sharpened e Canny\n",
    "plt.subplot(121), plt.imshow(sharpened, cmap='gray')\n",
    "plt.title('Sharpened image'), plt.xticks([]), plt.yticks([])\n",
    "plt.subplot(122), plt.imshow(canny, cmap='gray')\n",
    "plt.title('Canny image'), plt.xticks([]), plt.yticks([])\n",
    "plt.show()\n",
    "\n"
   ]
  }
 ],
 "metadata": {
  "kernelspec": {
   "display_name": "Python 3",
   "language": "python",
   "name": "python3"
  },
  "language_info": {
   "codemirror_mode": {
    "name": "ipython",
    "version": 3
   },
   "file_extension": ".py",
   "mimetype": "text/x-python",
   "name": "python",
   "nbconvert_exporter": "python",
   "pygments_lexer": "ipython3",
   "version": "3.10.6"
  },
  "orig_nbformat": 4
 },
 "nbformat": 4,
 "nbformat_minor": 2
}
